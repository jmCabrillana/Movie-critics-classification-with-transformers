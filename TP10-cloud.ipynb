{
 "cells": [
  {
   "cell_type": "code",
   "execution_count": null,
   "metadata": {
    "pycharm": {
     "is_executing": false
    }
   },
   "outputs": [],
   "source": [
    "import re\n",
    "from pathlib import Path\n",
    "from torch.utils.data import Dataset\n",
    "from collections import namedtuple\n",
    "from pathlib import Path\n",
    "import numpy as np\n",
    "import unicodedata\n",
    "import string\n",
    "import copy\n",
    "import matplotlib.pyplot as plt\n",
    "import math\n",
    "import pickle\n",
    "\n",
    "from torch.utils.data import Dataset, DataLoader\n",
    "%pip install tensorboard\n",
    "from torch.utils.tensorboard import SummaryWriter\n",
    "import torch.nn as nn\n",
    "import torch\n",
    "from torch.nn import functional as F\n",
    "\n",
    "\n"
   ]
  },
  {
   "cell_type": "code",
   "execution_count": null,
   "metadata": {},
   "outputs": [],
   "source": [
    "import os\n",
    "import glob\n",
    "\n",
    "from torchnlp.download import download_file_maybe_extract\n",
    "\n",
    "\n",
    "def imdb_dataset(directory='data/',\n",
    "                 train=True,\n",
    "                 test=True,\n",
    "                 train_directory='train',\n",
    "                 test_directory='test',\n",
    "                 extracted_name='aclImdb',\n",
    "                 check_files=['aclImdb/README'],\n",
    "                 url='http://ai.stanford.edu/~amaas/data/sentiment/aclImdb_v1.tar.gz',\n",
    "                 sentiments=['pos', 'neg']):\n",
    "    \"\"\"\n",
    "    Load the IMDB dataset (Large Movie Review Dataset v1.0).\n",
    "\n",
    "    This is a dataset for binary sentiment classification containing substantially more data than\n",
    "    previous benchmark datasets. Provided a set of 25,000 highly polar movie reviews for\n",
    "    training, and 25,000 for testing. There is additional unlabeled data for use as well. Raw text\n",
    "    and already processed bag of words formats are provided.\n",
    "\n",
    "    Note:\n",
    "        The order examples are returned is not guaranteed due to ``iglob``.\n",
    "\n",
    "    **Reference:** http://ai.stanford.edu/~amaas/data/sentiment/\n",
    "\n",
    "    Args:\n",
    "        directory (str, optional): Directory to cache the dataset.\n",
    "        train (bool, optional): If to load the training split of the dataset.\n",
    "        test (bool, optional): If to load the test split of the dataset.\n",
    "        train_directory (str, optional): The directory of the training split.\n",
    "        test_directory (str, optional): The directory of the test split.\n",
    "        extracted_name (str, optional): Name of the extracted dataset directory.\n",
    "        check_files (str, optional): Check if these files exist, then this download was successful.\n",
    "        url (str, optional): URL of the dataset ``tar.gz`` file.\n",
    "        sentiments (list of str, optional): Sentiments to load from the dataset.\n",
    "\n",
    "    Returns:\n",
    "        :class:`tuple` of :class:`iterable` or :class:`iterable`:\n",
    "        Returns between one and all dataset splits (train, dev and test) depending on if their\n",
    "        respective boolean argument is ``True``.\n",
    "\n",
    "    Example:\n",
    "        >>> from torchnlp.datasets import imdb_dataset  # doctest: +SKIP\n",
    "        >>> train = imdb_dataset(train=True)  # doctest: +SKIP\n",
    "        >>> train[0:2]  # doctest: +SKIP\n",
    "        [{\n",
    "          'text': 'For a movie that gets no respect there sure are a lot of memorable quotes...',\n",
    "          'sentiment': 'pos'\n",
    "        }, {\n",
    "          'text': 'Bizarre horror movie filled with famous faces but stolen by Cristina Raines...',\n",
    "          'sentiment': 'pos'\n",
    "        }]\n",
    "    \"\"\"\n",
    "    download_file_maybe_extract(url=url, directory=directory, check_files=check_files)\n",
    "\n",
    "    ret = []\n",
    "    splits = [\n",
    "        dir_ for (requested, dir_) in [(train, train_directory), (test, test_directory)]\n",
    "        if requested\n",
    "    ]\n",
    "    for split_directory in splits:\n",
    "        full_path = os.path.join(directory, extracted_name, split_directory)\n",
    "        examples = []\n",
    "        for sentiment in sentiments:\n",
    "            for filename in glob.iglob(os.path.join(full_path, sentiment, '*.txt')):\n",
    "                with open(filename, 'r', encoding=\"utf-8\") as f:\n",
    "                    text = f.readline()\n",
    "                examples.append({\n",
    "                    'text': text,\n",
    "                    'sentiment': sentiment,\n",
    "                })\n",
    "            ret.append(examples)\n",
    "\n",
    "    if len(ret) == 1:\n",
    "        return ret[0]\n",
    "    else:\n",
    "        return tuple(ret)"
   ]
  },
  {
   "cell_type": "code",
   "execution_count": null,
   "metadata": {},
   "outputs": [],
   "source": [
    "datasets = imdb_dataset()"
   ]
  },
  {
   "cell_type": "code",
   "execution_count": 5,
   "metadata": {},
   "outputs": [],
   "source": [
    "pickle.dump( datasets, open( \"dataset.p\", \"wb\" ) )"
   ]
  },
  {
   "cell_type": "code",
   "execution_count": 3,
   "metadata": {},
   "outputs": [],
   "source": [
    "datasets = pickle.load( open( \"dataset.p\", \"rb\" ) )"
   ]
  },
  {
   "cell_type": "code",
   "execution_count": 4,
   "metadata": {},
   "outputs": [],
   "source": [
    "test_neg, train_neg, test_pos, train_pos = datasets\n",
    "test0 = test_neg + test_pos\n",
    "train0 = train_neg + train_pos"
   ]
  },
  {
   "cell_type": "code",
   "execution_count": 5,
   "metadata": {},
   "outputs": [],
   "source": [
    "words = []\n",
    "idx = 0\n",
    "word2idx = {}\n",
    "idx2word = {}\n",
    "embeddings = []\n",
    "from pathlib import Path\n",
    "\n",
    "with open(Path('glove.6B.50d.txt'), 'rb') as f:\n",
    "    for l in f:\n",
    "        line = l.decode().split()\n",
    "        word = line[0]\n",
    "        words.append(word)\n",
    "        word2idx[word] = idx\n",
    "        idx2word[idx] = word\n",
    "        idx += 1\n",
    "        vect = np.array(line[1:]).astype(np.float)\n",
    "        if len(vect) != 50 :\n",
    "            print (idx, len(vect), l)\n",
    "        embeddings.append(vect)\n",
    "    \n",
    "embeddings = torch.tensor(embeddings)"
   ]
  },
  {
   "cell_type": "code",
   "execution_count": 6,
   "metadata": {},
   "outputs": [],
   "source": [
    "EMBEDDING_SIZE = 50\n",
    "b_size = 32\n",
    "\n",
    "Batch = namedtuple(\"Batch\", [\"text\", \"labels\"])\n",
    "class FolderText(Dataset):\n",
    "    def __init__(self, classes, tokenizer, load=False):\n",
    "        self.tokenizer = tokenizer\n",
    "        self.files = []\n",
    "        self.filelabels = []\n",
    "        self.labels = ['pos', 'neg']\n",
    "        for couple in classes:\n",
    "            self.files.append(couple['text'])\n",
    "            self.filelabels.append(couple['sentiment'])\n",
    "\n",
    "    def __len__(self):\n",
    "        return len(self.filelabels)\n",
    "    \n",
    "    def __getitem__(self, ix):\n",
    "        return self.files[ix], self.filelabels[ix]\n",
    "    \n",
    "    @staticmethod\n",
    "    def collate(batch):\n",
    "        data = [item[0] for item in batch]\n",
    "        labels = [item[1] for item in batch]\n",
    "        labels = [0 if x =='neg' else 1 for x in labels]\n",
    "        n = max([len(item) for item in data])\n",
    "        data = [[word2idx[x] for x in item] + [0]*(n - len(item)) for item in data]\n",
    "        return Batch(torch.LongTensor(data), torch.LongTensor(labels))\n",
    "\n",
    "LETTRES = string.ascii_letters + '\\'' + string.digits +' '\n",
    "def normalize(s):\n",
    "    return ''.join(c for c in unicodedata.normalize('NFD', s) if c in LETTRES)\n",
    "\n",
    "WORDS = re.compile(r\"\\S+\")\n",
    "def tokenizer(t):\n",
    "    return list([x for x in re.findall(WORDS, t.lower()) if word2idx.get(x) != None])"
   ]
  },
  {
   "cell_type": "code",
   "execution_count": 15,
   "metadata": {},
   "outputs": [
    {
     "name": "stdout",
     "output_type": "stream",
     "text": [
      "pre-processing: train\n"
     ]
    },
    {
     "data": {
      "text/plain": [
       "'99% done'"
      ]
     },
     "metadata": {},
     "output_type": "display_data"
    },
    {
     "name": "stdout",
     "output_type": "stream",
     "text": [
      "pre-processing: test\n"
     ]
    },
    {
     "data": {
      "text/plain": [
       "'99% done'"
      ]
     },
     "metadata": {},
     "output_type": "display_data"
    }
   ],
   "source": [
    "from IPython.display import display\n",
    "test = copy.deepcopy(test0)\n",
    "train = copy.deepcopy(train0)\n",
    "\n",
    "#On limite la taille des séquences pour éviter une saturation de la mémoir GPU\n",
    "print('pre-processing:', 'train')\n",
    "dh = display('wait',display_id=True)\n",
    "for index, couple in enumerate(train0):\n",
    "    seq = tokenizer(normalize(couple['text']))\n",
    "    if len(seq) > 500 :\n",
    "        seq = seq[::500]\n",
    "    train[index]['text'] = seq\n",
    "    if index % int(len(train)/100) == 0 :\n",
    "        dh.update(str( int(index/len(train) * 100) )+ '% done')\n",
    "\n",
    "print('pre-processing:', 'test')\n",
    "dj = display('wait',display_id=True)\n",
    "for index, couple in enumerate(test0):\n",
    "    seq = tokenizer(normalize(couple['text']))\n",
    "    if len(seq) > 500 :\n",
    "        seq = seq[::500]\n",
    "    test[index]['text'] = seq\n",
    "    if index % int(len(test)/100) == 0 :\n",
    "        dj.update(str(int(index/len(test) * 100)) + '% done')"
   ]
  },
  {
   "cell_type": "code",
   "execution_count": 26,
   "metadata": {},
   "outputs": [],
   "source": [
    "train_data = FolderText(train, tokenizer, load=False) \n",
    "test_data = FolderText(test, tokenizer, load=False)\n",
    "\n",
    "train_loader = DataLoader(train_data,  shuffle=True ,  batch_size=b_size,\n",
    "                      collate_fn=FolderText.collate)  \n",
    "test_loader = DataLoader(test_data,  shuffle=True ,  batch_size=b_size,\n",
    "                      collate_fn=FolderText.collate)  "
   ]
  },
  {
   "cell_type": "code",
   "execution_count": 38,
   "metadata": {},
   "outputs": [
    {
     "data": {
      "text/plain": [
       "torch.Size([32, 341])"
      ]
     },
     "execution_count": 38,
     "metadata": {},
     "output_type": "execute_result"
    }
   ],
   "source": [
    "X, y = next(iter(train_loader))\n",
    "X.shape"
   ]
  },
  {
   "cell_type": "code",
   "execution_count": 16,
   "metadata": {},
   "outputs": [],
   "source": [
    "class PositionalEncoder(nn.Module):\n",
    "    def __init__(self, d_model, max_seq_len = 500):\n",
    "        super().__init__()\n",
    "        self.d_model = d_model\n",
    "        \n",
    "        # create constant 'pe' matrix with values dependant on \n",
    "        # pos and i\n",
    "        pe = torch.zeros(max_seq_len, d_model)\n",
    "        for pos in range(max_seq_len):\n",
    "            for i in range(0, d_model, 2):\n",
    "                pe[pos, i] = \\\n",
    "                math.sin(pos / (10000 ** ((2 * i)/d_model)))\n",
    "                pe[pos, i + 1] = \\\n",
    "                math.cos(pos / (10000 ** ((2 * (i + 1))/d_model)))\n",
    "                \n",
    "        pe = pe.unsqueeze(0).cpu()\n",
    "        self.register_buffer('pe', pe)\n",
    " \n",
    "    \n",
    "    def forward(self, x):\n",
    "        # make embeddings relatively larger\n",
    "        x = x * math.sqrt(self.d_model)\n",
    "        #add constant to embedding\n",
    "        seq_len = x.shape[1]\n",
    "        b = torch.autograd.Variable(self.pe[:,:seq_len], requires_grad=False)\n",
    "        x = x + b.cuda()\n",
    "        del b\n",
    "        return x"
   ]
  },
  {
   "cell_type": "code",
   "execution_count": 17,
   "metadata": {},
   "outputs": [],
   "source": [
    "class MultiHeadAttention(nn.Module):\n",
    "    def __init__(self, dim_embedding, heads, dropout = 0.1):\n",
    "        super().__init__()\n",
    "        \n",
    "        self.dim_embedding = dim_embedding\n",
    "        self.d_k = dim_embedding // heads\n",
    "        self.h = heads\n",
    "        \n",
    "        self.Query = nn.Linear(dim_embedding, dim_embedding)\n",
    "        self.Value = nn.Linear(dim_embedding, dim_embedding)\n",
    "        self.Key = nn.Linear(dim_embedding, dim_embedding)\n",
    "        self.dropout = nn.Dropout(dropout)\n",
    "        self.out = nn.Linear(dim_embedding, dim_embedding)\n",
    "    \n",
    "    def forward(self, q, k, v):\n",
    "        \n",
    "        bs = q.size(0)\n",
    "        \n",
    "        \n",
    "        k = self.Key(k).view(bs, -1, self.h, self.d_k)\n",
    "        q = self.Query(q).view(bs, -1, self.h, self.d_k)\n",
    "        v = self.Value(v).view(bs, -1, self.h, self.d_k)\n",
    "        \n",
    "        # [bs * h * sl * dim_embedding]\n",
    "       \n",
    "        k = k.transpose(1,2)\n",
    "        q = q.transpose(1,2)\n",
    "        v = v.transpose(1,2)\n",
    "        \n",
    "        #Calcul de l'attention\n",
    "        scores = torch.matmul(q, k.transpose(-2, -1)) /  math.sqrt(self.d_k)\n",
    "        scores = F.softmax(scores, dim=-1)\n",
    "        #scores = self.dropout(scores)\n",
    "        res = torch.matmul(scores, v)\n",
    "        \n",
    "        # concat\n",
    "        concat = res.transpose(1,2).contiguous().view(bs, -1, self.dim_embedding)\n",
    "        output = self.out(concat)\n",
    "    \n",
    "        return output"
   ]
  },
  {
   "cell_type": "code",
   "execution_count": 18,
   "metadata": {},
   "outputs": [],
   "source": [
    "class TransformerLayer(nn.Module):\n",
    "    def __init__(self, dim_embedding, heads):\n",
    "        super().__init__()\n",
    "        self.norm_1 = nn.BatchNorm1d(dim_embedding, eps=1e-06, momentum=0.1)\n",
    "        self.norm_2 = nn.BatchNorm1d(dim_embedding, eps=1e-06, momentum=0.1)\n",
    "        self.attn = MultiHeadAttention(dim_embedding, heads)\n",
    "        self.output = nn.Linear(dim_embedding, dim_embedding)\n",
    "        \n",
    "    def forward(self, x):\n",
    "        #normalisation ( pour n*C*L se fait sur C, il faut échanger les dimensions)\n",
    "        x2 = self.norm_1(x.transpose(1, 2))\n",
    "        x2 = x2.transpose(1, 2)\n",
    "        \n",
    "        x = x + self.attn(x2,x2,x2)\n",
    "        \n",
    "        #normalisation\n",
    "        x2 = self.norm_2(x.transpose(1, 2))\n",
    "        x2 = x2.transpose(1, 2)\n",
    "        \n",
    "        x = F.relu(x + self.output(x2))\n",
    "        return x"
   ]
  },
  {
   "cell_type": "code",
   "execution_count": 23,
   "metadata": {},
   "outputs": [],
   "source": [
    "class Transformer(nn.Module):\n",
    "    def __init__(self, dim_embedding, heads, nb_class):\n",
    "        super().__init__()\n",
    "        self.dim_embedding = dim_embedding\n",
    "        self.Embedding = nn.Embedding.from_pretrained(embeddings, freeze = True, padding_idx= 0)\n",
    "        self.pe = PositionalEncoder(dim_embedding)\n",
    "        self.attention_1 = TransformerLayer(dim_embedding, heads)\n",
    "        self.attention_2 = TransformerLayer(dim_embedding, heads)\n",
    "        self.attention_3 = TransformerLayer(dim_embedding, heads)\n",
    "        self.out = nn.Linear(dim_embedding, nb_class)\n",
    "        \n",
    "    def forward(self, src ):\n",
    "        x = self.Embedding(src)\n",
    "        x = self.pe(x)\n",
    "        x = self.attention_1(x)\n",
    "        x = self.attention_2(x)\n",
    "        x = self.attention_3(x)\n",
    "        x = torch.mean(x, 1)\n",
    "        x = self.out(x)\n",
    "        return x"
   ]
  },
  {
   "cell_type": "code",
   "execution_count": 20,
   "metadata": {},
   "outputs": [
    {
     "name": "stdout",
     "output_type": "stream",
     "text": [
      "torch.Size([8, 353, 50])\n",
      "torch.Size([8, 353, 50])\n"
     ]
    }
   ],
   "source": [
    "m = MultiHeadAttention(50, 5).float()\n",
    "Embedding = nn.Embedding.from_pretrained(embeddings, freeze = True, padding_idx= 0)\n",
    "dataLoader = DataLoader(train_data,  shuffle=True ,  batch_size=8,\n",
    "                  collate_fn=FolderText.collate) \n",
    "X, y = next(iter(dataLoader))\n",
    "X = X\n",
    "X = Embedding(X).float()\n",
    "print(X.shape)\n",
    "y_hat = m(X, X, X)\n",
    "print(y_hat.shape)"
   ]
  },
  {
   "cell_type": "code",
   "execution_count": null,
   "metadata": {},
   "outputs": [],
   "source": [
    "m = Transformer(50, 5, 2).float()\n",
    "dataLoader = DataLoader(train_data,  shuffle=True ,  batch_size=8,\n",
    "                  collate_fn=FolderText.collate) \n",
    "X, y = next(iter(dataLoader))\n",
    "#X = Embedding(X)\n",
    "#X = X.double()\n",
    "print(X.shape)\n",
    "#y_hat = m(X, X, X)\n",
    "X = X\n",
    "y_hat = m(X)\n",
    "print(y_hat.shape)"
   ]
  },
  {
   "cell_type": "code",
   "execution_count": 39,
   "metadata": {},
   "outputs": [
    {
     "name": "stdout",
     "output_type": "stream",
     "text": [
      "GPU is available\n",
      "nombre de batch:  1109\n"
     ]
    },
    {
     "data": {
      "text/plain": [
       "'epoch: 19/20'"
      ]
     },
     "metadata": {},
     "output_type": "display_data"
    },
    {
     "data": {
      "text/plain": [
       "'itération:1100| loss:0.36135241389274597'"
      ]
     },
     "metadata": {},
     "output_type": "display_data"
    },
    {
     "name": "stderr",
     "output_type": "stream",
     "text": [
      "/usr/local/lib/python3.6/dist-packages/torch/serialization.py:256: UserWarning: Couldn't retrieve source code for container of type Transformer. It won't be checked for correctness upon loading.\n",
      "  \"type \" + obj.__name__ + \". It won't be checked \"\n",
      "/usr/local/lib/python3.6/dist-packages/torch/serialization.py:256: UserWarning: Couldn't retrieve source code for container of type PositionalEncoder. It won't be checked for correctness upon loading.\n",
      "  \"type \" + obj.__name__ + \". It won't be checked \"\n",
      "/usr/local/lib/python3.6/dist-packages/torch/serialization.py:256: UserWarning: Couldn't retrieve source code for container of type TransformerLayer. It won't be checked for correctness upon loading.\n",
      "  \"type \" + obj.__name__ + \". It won't be checked \"\n",
      "/usr/local/lib/python3.6/dist-packages/torch/serialization.py:256: UserWarning: Couldn't retrieve source code for container of type MultiHeadAttention. It won't be checked for correctness upon loading.\n",
      "  \"type \" + obj.__name__ + \". It won't be checked \"\n"
     ]
    }
   ],
   "source": [
    "dim_embedding = 50\n",
    "b_size = 32\n",
    "heads = 2\n",
    "nb_class = 2\n",
    "epochs = 20\n",
    "\n",
    "\n",
    "\n",
    "\n",
    "\n",
    "model = Transformer(dim_embedding, heads, nb_class).float()\n",
    "#model = torch.load('mem.txt')\n",
    "\n",
    "optimizer = torch.optim.SGD(model.parameters(), lr=0.01)\n",
    "loss_function = nn.CrossEntropyLoss()\n",
    "writer = SummaryWriter()\n",
    "loss = []\n",
    "min_loss = 10\n",
    "loss_val = 1000\n",
    "savepath = Path(\"mem.txt\")\n",
    "\n",
    "CUDA = torch.cuda.is_available() \n",
    "if CUDA:\n",
    "    print(\"GPU is available\")\n",
    "    model = model.cuda()\n",
    "    loss_function = loss_function.cuda() \n",
    "\n",
    "\n",
    "if __name__ == '__main__':\n",
    "    dataLoader = DataLoader(train_data,  shuffle=True ,  batch_size=b_size, num_workers=0,\n",
    "                  collate_fn=FolderText.collate) \n",
    "    data_len = int(len(dataLoader.dataset)/b_size)\n",
    "    print(\"nombre de batch: \", data_len)\n",
    "    de = display('epoch:',display_id=True)\n",
    "    di = display('iteration:',display_id=True)\n",
    "    for e in range(epochs):\n",
    "        de.update('epoch: '+ str(e) + '/' + str(epochs))\n",
    "        for i, (batch_X, batch_y) in enumerate(dataLoader):\n",
    "            if CUDA:\n",
    "                batch_X = batch_X.cuda()\n",
    "                batch_y= batch_y.cuda()\n",
    "        \n",
    "            #========forward pass=====================================\n",
    "            y_hat = model(batch_X)\n",
    "            loss_val = loss_function(y_hat, batch_y)\n",
    "            writer.add_scalar('Loss/train', loss_val)\n",
    "            loss.append(loss_val)\n",
    "        \n",
    "            #print process status\n",
    "            if i % int(data_len / 10) == 0:\n",
    "                di.update(\"itération:\" + str(i) + \"| loss:\" + str(loss_val.item()))\n",
    "            #save minimum after 80% of the execution time\n",
    "            if ( e >= 0.8*epochs ) and (loss_val < min_loss):\n",
    "                min_loss = loss_val\n",
    "                with savepath.open(\"wb\") as fp:\n",
    "                    torch.save(model, fp)\n",
    "\n",
    "            #=======backward pass=====================================\n",
    "            optimizer.zero_grad() # zero the gradients \n",
    "            loss_val.backward()\n",
    "            optimizer.step()\n",
    "            del batch_X, batch_y, y_hat\n"
   ]
  },
  {
   "cell_type": "code",
   "execution_count": 29,
   "metadata": {},
   "outputs": [
    {
     "name": "stdout",
     "output_type": "stream",
     "text": [
      "Mon Feb  3 13:06:52 2020       \n",
      "+-----------------------------------------------------------------------------+\n",
      "| NVIDIA-SMI 418.67       Driver Version: 418.67       CUDA Version: 10.1     |\n",
      "|-------------------------------+----------------------+----------------------+\n",
      "| GPU  Name        Persistence-M| Bus-Id        Disp.A | Volatile Uncorr. ECC |\n",
      "| Fan  Temp  Perf  Pwr:Usage/Cap|         Memory-Usage | GPU-Util  Compute M. |\n",
      "|===============================+======================+======================|\n",
      "|   0  Quadro M4000        On   | 00000000:00:05.0 Off |                  N/A |\n",
      "| 46%   25C    P8    11W / 120W |    644MiB /  8126MiB |      0%      Default |\n",
      "+-------------------------------+----------------------+----------------------+\n",
      "                                                                               \n",
      "+-----------------------------------------------------------------------------+\n",
      "| Processes:                                                       GPU Memory |\n",
      "|  GPU       PID   Type   Process name                             Usage      |\n",
      "|=============================================================================|\n",
      "+-----------------------------------------------------------------------------+\n",
      "Mon Feb  3 13:06:53 2020       \n",
      "+-----------------------------------------------------------------------------+\n",
      "| NVIDIA-SMI 418.67       Driver Version: 418.67       CUDA Version: 10.1     |\n",
      "|-------------------------------+----------------------+----------------------+\n",
      "| GPU  Name        Persistence-M| Bus-Id        Disp.A | Volatile Uncorr. ECC |\n",
      "| Fan  Temp  Perf  Pwr:Usage/Cap|         Memory-Usage | GPU-Util  Compute M. |\n",
      "|===============================+======================+======================|\n",
      "|   0  Quadro M4000        On   | 00000000:00:05.0 Off |                  N/A |\n",
      "| 46%   24C    P8    11W / 120W |    644MiB /  8126MiB |      0%      Default |\n",
      "+-------------------------------+----------------------+----------------------+\n",
      "                                                                               \n",
      "+-----------------------------------------------------------------------------+\n",
      "| Processes:                                                       GPU Memory |\n",
      "|  GPU       PID   Type   Process name                             Usage      |\n",
      "|=============================================================================|\n",
      "+-----------------------------------------------------------------------------+\n"
     ]
    }
   ],
   "source": [
    "#Clear data\n",
    "!nvidia-smi\n",
    "del model, optimizer, dataLoader\n",
    "torch.cuda.empty_cache()\n",
    "!nvidia-smi\n"
   ]
  },
  {
   "cell_type": "code",
   "execution_count": 40,
   "metadata": {},
   "outputs": [
    {
     "data": {
      "image/png": "[encoded data removed]",
      "text/plain": [
       "<Figure size 432x288 with 1 Axes>"
      ]
     },
     "metadata": {
      "needs_background": "light"
     },
     "output_type": "display_data"
    }
   ],
   "source": [
    "d_loss = [torch.mean(torch.tensor(loss[i*100 : (i+1)*100])) for i in range(100)]\n",
    "plt.plot(d_loss)\n",
    "plt.title('Averaged Loss')\n",
    "plt.show()"
   ]
  },
  {
   "cell_type": "markdown",
   "metadata": {},
   "source": [
    "## Résultats:\n",
    "\n",
    "La meilleur loss est amélioré par rapport au modèle simplifié précédent. "
   ]
  },
  {
   "cell_type": "code",
   "execution_count": 41,
   "metadata": {},
   "outputs": [],
   "source": [
    "pickle.dump( d_loss, open( \"loss1.p\", \"wb\" ) )"
   ]
  },
  {
   "cell_type": "markdown",
   "metadata": {},
   "source": [
    "# Exo 2:\n",
    "\n",
    "Embedding de la position \n"
   ]
  },
  {
   "cell_type": "code",
   "execution_count": null,
   "metadata": {},
   "outputs": [],
   "source": [
    "!pip install seaborn"
   ]
  },
  {
   "cell_type": "code",
   "execution_count": 46,
   "metadata": {},
   "outputs": [
    {
     "data": {
      "image/png": "[encoded data removed]",
      "text/plain": [
       "<Figure size 432x288 with 2 Axes>"
      ]
     },
     "metadata": {
      "needs_background": "light"
     },
     "output_type": "display_data"
    }
   ],
   "source": [
    "M = []\n",
    "pe_fun = PositionalEncoder(50)\n",
    "pe_fun.pe = pe_fun.pe.squeeze(0)\n",
    "for i in range (30):\n",
    "    ligne = []\n",
    "    for j in range(30):\n",
    "        dot = torch.dot(pe_fun.pe[i,:], pe_fun.pe[j,:])\n",
    "        ligne.append(dot.item())\n",
    "    M.append(ligne)\n",
    "\n",
    "\n",
    "import seaborn as sns\n",
    "plt.title('Produit scalaire des \\'pe\\' en fonction de i et j')\n",
    "sns.heatmap(M, linewidth=0.5)\n",
    "plt.show()"
   ]
  },
  {
   "cell_type": "markdown",
   "metadata": {},
   "source": [
    "On remarque que plus i et j sont proches (points de la diagonale) plus le produit scalaire des positional embedding est élevé. Au contraire aus extrémités la valeur est la plus faible. Cela va bien permettre de distinguer les points selon leur position. On remarque aussi que l'information est stockée sur une certaine fréquence (si on voit les points comme des échantillonages de fonction)."
   ]
  },
  {
   "cell_type": "markdown",
   "metadata": {},
   "source": [
    "# Exo 3\n",
    "\n",
    "Ajout d'un token CLS et le résultat est calculé au niveau de ce token."
   ]
  },
  {
   "cell_type": "code",
   "execution_count": null,
   "metadata": {},
   "outputs": [],
   "source": [
    "class TransformerCLS(nn.Module):\n",
    "    def __init__(self, dim_embedding, heads, nb_class):\n",
    "        super().__init__()\n",
    "        self.dim_embedding = dim_embedding\n",
    "        self.Embedding = nn.Embedding.from_pretrained(embeddings, freeze = True, padding_idx= 0)\n",
    "        self.EmbeddingCLS = torch.nn.Parameter(torch.randn(dim_embedding))\n",
    "        self.pe = PositionalEncoder(dim_embedding)\n",
    "        self.attention_1 = TransformerLayer(dim_embedding, heads)\n",
    "        self.attention_2 = TransformerLayer(dim_embedding, heads)\n",
    "        self.attention_3 = TransformerLayer(dim_embedding, heads)\n",
    "        self.out = nn.Linear(dim_embedding, nb_class)\n",
    "        \n",
    "    def forward(self, src ):\n",
    "        b_size = src.shape[0]\n",
    "        xi = self.Embedding(src[:,1:])\n",
    "        x0 = self.EmbeddingCLS.repeat(b_size, 1)\n",
    "        x0 = x0.unsqueeze(1)\n",
    "        x = torch.cat([x0, xi], dim=1)\n",
    "        x = self.pe(x)\n",
    "        x = self.attention_1(x)\n",
    "        x = self.attention_2(x)\n",
    "        x = self.attention_3(x)\n",
    "        x = x[:,0,:]\n",
    "        x = self.out(x)\n",
    "        return x"
   ]
  },
  {
   "cell_type": "code",
   "execution_count": null,
   "metadata": {},
   "outputs": [],
   "source": [
    "test = copy.deepcopy(test0)\n",
    "train = copy.deepcopy(train0)\n",
    "\n",
    "#On limite la taille des séquences pour éviter une saturation de la mémoire GPU\n",
    "#Ajout du token CLS\n",
    "print('pre-processing:', 'train')\n",
    "dh = display('wait',display_id=True)\n",
    "for index, couple in enumerate(train0):\n",
    "    seq = tokenizer(normalize(couple['text']))\n",
    "    if len(seq) > 499 :\n",
    "        seq = seq[::500]\n",
    "    train[index]['text'] = ['CLS'] + seq\n",
    "    if index % int(len(train)/100) == 0 :\n",
    "        dh.update(str( int(index/len(train) * 100) )+ '% done')\n",
    "\n",
    "print('pre-processing:', 'test')\n",
    "dj = display('wait',display_id=True)\n",
    "for index, couple in enumerate(test0):\n",
    "    seq = tokenizer(normalize(couple['text']))\n",
    "    if len(seq) > 499 :\n",
    "        seq = seq[::500]\n",
    "    test[index]['text'] = ['CLS'] + seq\n",
    "    if index % int(len(test)/100) == 0 :\n",
    "        dj.update(str(int(index/len(test) * 100)) + '% done')\n",
    "        \n",
    "#Ajout du Token CLS dans le dictionnaire\n",
    "#idx = 400001\n",
    "word2idx['CLS'] = idx\n",
    "idx2word[idx] = 'CLS'\n",
    "        \n",
    "train_data = FolderText(train, tokenizer, load=False) \n",
    "test_data = FolderText(test, tokenizer, load=False)\n",
    "\n",
    "train_loader = DataLoader(train_data,  shuffle=True ,  batch_size=b_size,\n",
    "                      collate_fn=FolderText.collate)  \n",
    "test_loader = DataLoader(test_data,  shuffle=True ,  batch_size=b_size,\n",
    "                      collate_fn=FolderText.collate)  "
   ]
  },
  {
   "cell_type": "code",
   "execution_count": null,
   "metadata": {},
   "outputs": [],
   "source": [
    "m = TransformerCLS(50, 5, 2).float().cuda()\n",
    "dataLoader = DataLoader(train_data,  shuffle=True ,  batch_size=8,\n",
    "                  collate_fn=FolderText.collate) \n",
    "X, y = next(iter(dataLoader))\n",
    "X = X.cuda()\n",
    "print(X.shape)\n",
    "y_hat = m(X)\n",
    "print(y_hat.shape)"
   ]
  },
  {
   "cell_type": "code",
   "execution_count": null,
   "metadata": {},
   "outputs": [],
   "source": [
    "dim_embedding = 50\n",
    "b_size = 32\n",
    "heads = 5\n",
    "nb_class = 2\n",
    "epochs = 20\n",
    "\n",
    "\n",
    "\n",
    "\n",
    "\n",
    "model = TransformerCLS(dim_embedding, heads, nb_class).float()\n",
    "#model = torch.load('mem.txt')\n",
    "\n",
    "optimizer = torch.optim.SGD(model.parameters(), lr=0.01)\n",
    "loss_function = nn.CrossEntropyLoss()\n",
    "writer = SummaryWriter()\n",
    "loss = []\n",
    "min_loss = 10\n",
    "loss_val = 1000\n",
    "savepath = Path(\"memCLS.txt\")\n",
    "\n",
    "CUDA = torch.cuda.is_available() \n",
    "if CUDA:\n",
    "    print(\"GPU is available\")\n",
    "    model = model.cuda()\n",
    "    loss_function = loss_function.cuda() \n",
    "\n",
    "\n",
    "if __name__ == '__main__':\n",
    "    dataLoader = DataLoader(train_data,  shuffle=True ,  batch_size=b_size, num_workers=0,\n",
    "                  collate_fn=FolderText.collate) \n",
    "    data_len = int(len(dataLoader.dataset)/b_size)\n",
    "    print(\"nombre de batch: \", data_len)\n",
    "    de = display('epoch:',display_id=True)\n",
    "    di = display('iteration:',display_id=True)\n",
    "    for e in range(epochs):\n",
    "        de.update('epoch: '+ str(e) + '/' + str(epochs))\n",
    "        for i, (batch_X, batch_y) in enumerate(dataLoader):\n",
    "            if CUDA:\n",
    "                batch_X = batch_X.cuda()\n",
    "                batch_y= batch_y.cuda()\n",
    "        \n",
    "            #========forward pass=====================================\n",
    "            y_hat = model(batch_X)\n",
    "            loss_val = loss_function(y_hat, batch_y)\n",
    "            writer.add_scalar('Loss/train', loss_val)\n",
    "            loss.append(loss_val)\n",
    "        \n",
    "            #print process status\n",
    "            if i % int(data_len / 10) == 0:\n",
    "                di.update(\"itération:\" + str(i) + \"| loss:\" + str(loss_val.item()))\n",
    "            #save minimum after 80% of the execution time\n",
    "            if ( e >= 0.8*epochs ) and (loss_val < min_loss):\n",
    "                min_loss = loss_val\n",
    "                with savepath.open(\"wb\") as fp:\n",
    "                    torch.save(model, fp)\n",
    "\n",
    "            #=======backward pass=====================================\n",
    "            optimizer.zero_grad() # zero the gradients \n",
    "            loss_val.backward()\n",
    "            optimizer.step()\n",
    "            del batch_X, batch_y, y_hat\n"
   ]
  },
  {
   "cell_type": "markdown",
   "metadata": {},
   "source": [
    "With This methodd the results are almost the same. The loss is about 0.5 after 300 iterations."
   ]
  }
 ],
 "metadata": {
  "kernelspec": {
   "display_name": "Python 3",
   "language": "python",
   "name": "python3"
  },
  "language_info": {
   "codemirror_mode": {
    "name": "ipython",
    "version": 3
   },
   "file_extension": ".py",
   "mimetype": "text/x-python",
   "name": "python",
   "nbconvert_exporter": "python",
   "pygments_lexer": "ipython3",
   "version": "3.7.4"
  },
  "pycharm": {
   "stem_cell": {
    "cell_type": "raw",
    "metadata": {
     "collapsed": false
    },
    "source": []
   }
  }
 },
 "nbformat": 4,
 "nbformat_minor": 4
}
